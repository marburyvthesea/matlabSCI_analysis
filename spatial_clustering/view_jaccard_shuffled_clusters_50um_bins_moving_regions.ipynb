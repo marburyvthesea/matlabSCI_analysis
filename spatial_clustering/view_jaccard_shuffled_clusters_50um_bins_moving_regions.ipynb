{
 "cells": [
  {
   "cell_type": "code",
   "execution_count": 1,
   "metadata": {
    "collapsed": false
   },
   "outputs": [
    {
     "data": {
      "text/html": [
       "<style>.container { width:90% !important; }</style>"
      ],
      "text/plain": [
       "<IPython.core.display.HTML object>"
      ]
     },
     "metadata": {},
     "output_type": "display_data"
    }
   ],
   "source": [
    "from IPython.core.display import display, HTML\n",
    "display(HTML(\"<style>.container { width:90% !important; }</style>\"))\n",
    "from matplotlib import pyplot as plt\n",
    "import numpy as np\n",
    "import pandas as pd\n",
    "import glob\n",
    "import math\n",
    "import scipy.stats as stats\n",
    "import scipy"
   ]
  },
  {
   "cell_type": "code",
   "execution_count": 2,
   "metadata": {
    "collapsed": true
   },
   "outputs": [],
   "source": [
    "#data_directory = '/Volumes/My_Passport/cnmfe_analysis_files/OpenFieldAnalysis/2020/D1_mGluRKO_clustering/data/run_01/wt'\n",
    "#data_directory_ko = '/Volumes/My_Passport/cnmfe_analysis_files/OpenFieldAnalysis/2020/D1_mGluRKO_clustering/data/run_01/ko'\n",
    "data_directory = '/projects/b1118/miniscope/analysis/spatial_data/spatial_clustering/jones_script_analysis/50um_bins'\n",
    "data_directory_moving_regions = '/projects/b1118/miniscope/analysis/spatial_data/spatial_clustering/jones_script_analysis/50um_bins/moving_regions'"
   ]
  },
  {
   "cell_type": "code",
   "execution_count": 3,
   "metadata": {
    "collapsed": true
   },
   "outputs": [],
   "source": [
    "#'GRIN034_H16_M13_S22', 'GRIN034_H19_M0_S18', 'GRIN034_H15_M28_S2', \n",
    "WT_sessions = ['GRIN013_H13_M33_S54', 'GRIN026_H16_M35_S34', 'GRIN027_H13_M29_S44', \n",
    "               'GRIN032_H16_M49_S22', 'GRIN032_H17_M30_S22', \n",
    "               'GRIN033_H13_M42_S33', 'GRIN033_H14_M34_S32', \n",
    "               'GRIN034_H16_M13_S22', 'GRIN034_H19_M0_S18', 'GRIN034_H15_M28_S2',\n",
    "               'GRIN035_H13_M31_S20', 'GRIN035_H13_M50_S58', 'GRIN035_H14_M40_S34',\n",
    "               'GRIN039_H12_M26_S54', 'GRIN039_H12_M33_S29', 'GRIN039_H14_M8_S53'] ; \n",
    "#'GRIN018_H16_M13_S53'\n",
    "KO_sessions = ['GRIN009_H13_M59_S14', 'GRIN011_H10_M19_S59', \n",
    "               'GRIN012_H16_M57_S23', 'GRIN012_H17_M32_S17', \n",
    "               'GRIN018_H17_M41_S43', 'GRIN018_H16_M13_S53',\n",
    "               'GRIN038_H11_M57_S0', 'GRIN038_H13_M37_S23', 'GRIN038_H15_M39_S40',\n",
    "               'GRIN041_H12_M54_S49'] ;"
   ]
  },
  {
   "cell_type": "code",
   "execution_count": 4,
   "metadata": {
    "collapsed": false
   },
   "outputs": [],
   "source": [
    "##plot example from one session \n",
    "session = 'GRIN009_H13_M59_S14'\n",
    "file_all_regions = data_directory+'/'+session+'_normlBinnedCellJaccards.csv'\n",
    "all_regions = pd.read_csv(file_all_regions, header=None)\n",
    "file_movement_regions = data_directory_moving_regions+'/'+'moving_regionsGRIN009_H13_M59_S14_movingFrameIndicies5Hz_normlBinnedCellJaccards.csv'\n",
    "movement_regions = pd.read_csv(file_movement_regions, header=None)"
   ]
  },
  {
   "cell_type": "code",
   "execution_count": 6,
   "metadata": {
    "collapsed": false
   },
   "outputs": [
    {
     "data": {
      "text/html": [
       "<div>\n",
       "<style scoped>\n",
       "    .dataframe tbody tr th:only-of-type {\n",
       "        vertical-align: middle;\n",
       "    }\n",
       "\n",
       "    .dataframe tbody tr th {\n",
       "        vertical-align: top;\n",
       "    }\n",
       "\n",
       "    .dataframe thead th {\n",
       "        text-align: right;\n",
       "    }\n",
       "</style>\n",
       "<table border=\"1\" class=\"dataframe\">\n",
       "  <thead>\n",
       "    <tr style=\"text-align: right;\">\n",
       "      <th></th>\n",
       "      <th>0</th>\n",
       "      <th>1</th>\n",
       "      <th>2</th>\n",
       "      <th>3</th>\n",
       "      <th>4</th>\n",
       "      <th>5</th>\n",
       "      <th>6</th>\n",
       "      <th>7</th>\n",
       "      <th>8</th>\n",
       "    </tr>\n",
       "  </thead>\n",
       "  <tbody>\n",
       "    <tr>\n",
       "      <th>0</th>\n",
       "      <td>15.517</td>\n",
       "      <td>10.924</td>\n",
       "      <td>8.6667</td>\n",
       "      <td>7.3073</td>\n",
       "      <td>6.503</td>\n",
       "      <td>6.0378</td>\n",
       "      <td>6.9908</td>\n",
       "      <td>6.8228</td>\n",
       "      <td>6.4634</td>\n",
       "    </tr>\n",
       "  </tbody>\n",
       "</table>\n",
       "</div>"
      ],
      "text/plain": [
       "        0       1       2       3      4       5       6       7       8\n",
       "0  15.517  10.924  8.6667  7.3073  6.503  6.0378  6.9908  6.8228  6.4634"
      ]
     },
     "execution_count": 6,
     "metadata": {},
     "output_type": "execute_result"
    }
   ],
   "source": [
    "all_regions"
   ]
  },
  {
   "cell_type": "code",
   "execution_count": 5,
   "metadata": {
    "collapsed": false
   },
   "outputs": [
    {
     "data": {
      "text/html": [
       "<div>\n",
       "<style scoped>\n",
       "    .dataframe tbody tr th:only-of-type {\n",
       "        vertical-align: middle;\n",
       "    }\n",
       "\n",
       "    .dataframe tbody tr th {\n",
       "        vertical-align: top;\n",
       "    }\n",
       "\n",
       "    .dataframe thead th {\n",
       "        text-align: right;\n",
       "    }\n",
       "</style>\n",
       "<table border=\"1\" class=\"dataframe\">\n",
       "  <thead>\n",
       "    <tr style=\"text-align: right;\">\n",
       "      <th></th>\n",
       "      <th>0</th>\n",
       "      <th>1</th>\n",
       "      <th>2</th>\n",
       "      <th>3</th>\n",
       "      <th>4</th>\n",
       "      <th>5</th>\n",
       "      <th>6</th>\n",
       "      <th>7</th>\n",
       "      <th>8</th>\n",
       "    </tr>\n",
       "  </thead>\n",
       "  <tbody>\n",
       "    <tr>\n",
       "      <th>0</th>\n",
       "      <td>4.0898</td>\n",
       "      <td>2.9588</td>\n",
       "      <td>2.3203</td>\n",
       "      <td>1.8518</td>\n",
       "      <td>1.6459</td>\n",
       "      <td>1.6159</td>\n",
       "      <td>1.7806</td>\n",
       "      <td>1.9994</td>\n",
       "      <td>1.9633</td>\n",
       "    </tr>\n",
       "  </tbody>\n",
       "</table>\n",
       "</div>"
      ],
      "text/plain": [
       "        0       1       2       3       4       5       6       7       8\n",
       "0  4.0898  2.9588  2.3203  1.8518  1.6459  1.6159  1.7806  1.9994  1.9633"
      ]
     },
     "execution_count": 5,
     "metadata": {},
     "output_type": "execute_result"
    }
   ],
   "source": [
    "movement_regions"
   ]
  },
  {
   "cell_type": "markdown",
   "metadata": {},
   "source": [
    "## compile and plot genotype data"
   ]
  },
  {
   "cell_type": "code",
   "execution_count": null,
   "metadata": {
    "collapsed": false,
    "scrolled": true
   },
   "outputs": [],
   "source": [
    "##compile in dictionaries -- all data \n",
    "#might need to shift matlab pair inidcies due to 1-indexing\n",
    "jaccard_analysis_by_session = {}\n",
    "for session in WT_sessions:\n",
    "    print(session)\n",
    "    session_output = {}\n",
    "    for file in glob.glob(data_directory+'/'+session+'*normlBinnedCellJaccards.csv'):\n",
    "        session_output[file.split('_')[-1].strip('.csv')] = pd.read_csv(file, header=None)\n",
    "    jaccard_analysis_by_session[session] = session_output\n",
    "    \n",
    "#compile in dictionaries\n",
    "#might need to shift matlab pair inidcies due to 1-indexing\n",
    "jaccard_analysis_by_session_ko = {}\n",
    "for session in KO_sessions:\n",
    "    print(session)\n",
    "    session_output = {}\n",
    "    for file in glob.glob(data_directory+'/'+session+'*normlBinnedCellJaccards.csv'):\n",
    "        session_output[file.split('_')[-1].strip('.csv')] = pd.read_csv(file, header=None)\n",
    "    jaccard_analysis_by_session_ko[session] = session_output"
   ]
  },
  {
   "cell_type": "code",
   "execution_count": null,
   "metadata": {
    "collapsed": false
   },
   "outputs": [],
   "source": [
    "##compile in dictionaries -- movement data \n",
    "#might need to shift matlab pair inidcies due to 1-indexing\n",
    "jaccard_analysis_by_session_movement_regions = {}\n",
    "for session in WT_sessions:\n",
    "    print(session)\n",
    "    session_output = {}\n",
    "    for file in glob.glob(data_directory_moving_regions+'/'+session+'*normlBinnedCellJaccards.csv'):\n",
    "        session_output[file.split('_')[-1].strip('.csv')] = pd.read_csv(file, header=None)\n",
    "    jaccard_analysis_by_session[session] = session_output\n",
    "    \n",
    "#compile in dictionaries\n",
    "#might need to shift matlab pair inidcies due to 1-indexing\n",
    "jaccard_analysis_by_session_ko_movement_regions = {}\n",
    "for session in KO_sessions:\n",
    "    print(session)\n",
    "    session_output = {}\n",
    "    for file in glob.glob(data_directory_moving_regions+'/'+session+'*normlBinnedCellJaccards.csv'):\n",
    "        session_output[file.split('_')[-1].strip('.csv')] = pd.read_csv(file, header=None)\n",
    "    jaccard_analysis_by_session_ko[session] = session_output"
   ]
  },
  {
   "cell_type": "code",
   "execution_count": null,
   "metadata": {
    "collapsed": false,
    "scrolled": true
   },
   "outputs": [],
   "source": [
    "jaccard_analysis_by_session[WT_sessions[1]]"
   ]
  },
  {
   "cell_type": "code",
   "execution_count": null,
   "metadata": {
    "collapsed": false
   },
   "outputs": [],
   "source": [
    "#plot across sessions\n",
    "genotype_compiled = pd.concat([jaccard_analysis_by_session[session]['normlBinnedCellJaccard'] for session in WT_sessions], keys=WT_sessions)\n",
    "genotype_compiled_ko = pd.concat([jaccard_analysis_by_session_ko[session]['normlBinnedCellJaccard'] for session in KO_sessions], keys=KO_sessions)\n",
    "\n",
    "genotype_compiled_movement = pd.concat([jaccard_analysis_by_session_movement_regions[session]['normlBinnedCellJaccard'] for session in WT_sessions], keys=WT_sessions)\n",
    "genotype_compiled_ko_movement = pd.concat([jaccard_analysis_by_session_ko_movement_regions[session]['normlBinnedCellJaccard'] for session in KO_sessions], keys=KO_sessions)"
   ]
  },
  {
   "cell_type": "code",
   "execution_count": null,
   "metadata": {
    "collapsed": false
   },
   "outputs": [],
   "source": [
    "#average multiple sessions per mouse \n",
    "#wt: GRIN013, GRIN026, GRIN027, GRIN032, GRIN033, GRIN035, GRIN039, GRIN040, GRIN044, GRIN045  \n",
    "#ko: GRIN009, GRIN011, GRIN012, GRIN018, GRIN041, GRIN038, GRIN043, GRIN042, \n",
    "wt_by_mouse = {}\n",
    "wt_by_mouse['GRIN013'] = genotype_compiled.loc['GRIN013_H13_M33_S54']\n",
    "wt_by_mouse['GRIN026'] = genotype_compiled.loc['GRIN026_H16_M35_S34']\n",
    "wt_by_mouse['GRIN027'] = genotype_compiled.loc['GRIN027_H13_M29_S44']\n",
    "wt_by_mouse['GRIN032'] = pd.DataFrame(genotype_compiled.loc[['GRIN032_H16_M49_S22','GRIN032_H17_M30_S22']].mean(axis=0)).transpose()\n",
    "wt_by_mouse['GRIN033'] = pd.DataFrame(genotype_compiled.loc[['GRIN033_H13_M42_S33','GRIN033_H14_M34_S32', ]].mean(axis=0)).transpose()\n",
    "#wt_by_day['GRIN034'] = pd.DataFrame(genotype_compiled.loc[['GRIN034_H16_M13_S22', 'GRIN034_H19_M0_S18', 'GRIN034_H15_M28_S2']].mean(axis=0)).transpose()\n",
    "wt_by_mouse['GRIN035'] = pd.DataFrame(genotype_compiled.loc[['GRIN035_H13_M31_S20', 'GRIN035_H13_M50_S58', 'GRIN035_H14_M40_S34']].mean(axis=0)).transpose()\n",
    "wt_by_mouse['GRIN039'] = pd.DataFrame(genotype_compiled.loc[['GRIN039_H12_M26_S54', 'GRIN039_H12_M33_S29', 'GRIN039_H14_M8_S53']].mean(axis=0)).transpose()\n",
    "\n",
    "wt_by_mouse = pd.concat(wt_by_mouse.values(), keys=wt_by_mouse.keys())\n",
    "\n",
    "#ko \n",
    "ko_by_mouse = {}\n",
    "ko_by_mouse['GRIN009'] = genotype_compiled_ko.loc['GRIN009_H13_M59_S14']\n",
    "ko_by_mouse['GRIN011'] = genotype_compiled_ko.loc['GRIN011_H10_M19_S59']\n",
    "ko_by_mouse['GRIN012'] = pd.DataFrame(genotype_compiled_ko.loc[['GRIN012_H16_M57_S23', 'GRIN012_H17_M32_S17']].mean(axis=0)).transpose() \n",
    "ko_by_mouse['GRIN018'] = pd.DataFrame(genotype_compiled_ko.loc[['GRIN018_H17_M41_S43', 'GRIN018_H16_M13_S53' ]].mean(axis=0)).transpose() \n",
    "ko_by_mouse['GRIN038'] = pd.DataFrame(genotype_compiled_ko.loc[['GRIN038_H11_M57_S0', 'GRIN038_H13_M37_S23', 'GRIN038_H15_M39_S40' ]].mean(axis=0)).transpose()\n",
    "ko_by_mouse['GRIN041'] = genotype_compiled_ko.loc['GRIN041_H12_M54_S49']\n",
    "\n",
    "ko_by_mouse = pd.concat(ko_by_mouse.values(), keys=ko_by_mouse.keys())"
   ]
  },
  {
   "cell_type": "code",
   "execution_count": null,
   "metadata": {
    "collapsed": false
   },
   "outputs": [],
   "source": [
    "## individual sessions \n",
    "fig = plt.figure()\n",
    "plt.subplot(1, 2, 1)\n",
    "\n",
    "for session in range(len(genotype_compiled)):\n",
    "    bin_vector = np.linspace(75, 475, len(genotype_compiled.iloc[session,:].values))\n",
    "    plt.plot(bin_vector, genotype_compiled.iloc[session,:].values, label=list(genotype_compiled.index)[session][0])\n",
    "plt.legend(bbox_to_anchor=(0., 1.02, 1., .102), loc='lower left', ncol=2, mode=\"expand\", borderaxespad=0.)\n",
    "\n",
    "fig.set_size_inches(15, 6)\n",
    "\n",
    "plt.subplot(1, 2, 2)\n",
    "\n",
    "for session in range(len(genotype_compiled_ko)):\n",
    "    bin_vector = np.linspace(75, 475, len(genotype_compiled_ko.iloc[session,:].values))\n",
    "    plt.plot(bin_vector, genotype_compiled_ko.iloc[session,:].values, label=list(genotype_compiled_ko.index)[session][0])\n",
    "plt.legend(bbox_to_anchor=(0., 1.02, 1., .102), loc='lower left', ncol=2, mode=\"expand\", borderaxespad=0.)\n",
    "\n",
    "fig.set_size_inches(15, 6)\n",
    "#fig.savefig('/Users/johnmarshall/Documents/Analysis/PythonAnalysisScripts/post_cmfe_analysis/openfield_analysis/spatial_clustering/summary_figs/coactivity_data_bysession_sidebyside.pdf', transparent=True)\n",
    "plt.show()"
   ]
  },
  {
   "cell_type": "code",
   "execution_count": null,
   "metadata": {
    "collapsed": false,
    "scrolled": true
   },
   "outputs": [],
   "source": [
    "#plot average for genotype\n",
    "fig = plt.figure()\n",
    "plt.subplot(1, 2, 1)\n",
    "plt.plot(bin_vector, genotype_compiled.mean())\n",
    "ax = plt.gca()\n",
    "ax.set_ylabel('shuffle-normalized cell-cell coactivity (jaccard)')\n",
    "ax.set_xlabel('cell-cell distance bin (um)')\n",
    "ax.set_ylim((0,30))\n",
    "#plot average for genotype\n",
    "plt.subplot(1, 2, 2)\n",
    "plt.plot(bin_vector, genotype_compiled_ko.mean())\n",
    "ax = plt.gca()\n",
    "ax.set_ylabel('shuffle-normalized cell-cell coactivity (jaccard)')\n",
    "ax.set_xlabel('cell-cell distance bin (um)')\n",
    "ax.set_ylim((0,30))\n",
    "\n",
    "\n",
    "fig.set_size_inches(15, 6)\n",
    "#fig.savefig('/Users/johnmarshall/Documents/Analysis/PythonAnalysisScripts/post_cmfe_analysis/openfield_analysis/spatial_clustering/summary_figs/coactivity_data_sidebyside.pdf', transparent=True)\n",
    "plt.show()"
   ]
  },
  {
   "cell_type": "markdown",
   "metadata": {},
   "source": [
    "## compile ko data"
   ]
  },
  {
   "cell_type": "markdown",
   "metadata": {},
   "source": [
    "## overlay ko and wt "
   ]
  },
  {
   "cell_type": "code",
   "execution_count": null,
   "metadata": {
    "collapsed": false
   },
   "outputs": [],
   "source": [
    "mean = genotype_compiled.mean()\n",
    "mean_ko = genotype_compiled_ko.mean()\n",
    "std_error = genotype_compiled.std()/math.sqrt(14)\n",
    "std_error_ko = genotype_compiled_ko.std()/math.sqrt(10)\n",
    "plt.plot(bin_vector, mean)\n",
    "plt.plot(bin_vector, mean_ko)\n",
    "plt.fill_between(bin_vector, mean-std_error, mean+std_error)\n",
    "plt.fill_between(bin_vector, mean_ko-std_error_ko, mean_ko+std_error_ko)\n",
    "ax = plt.gca()\n",
    "ax.set_ylabel('shuffle-normalized cell-cell coactivity (jaccard)')\n",
    "ax.set_xlabel('cell-cell distance bin (um)')\n",
    "ax.set_ylim((4,40))\n",
    "fig = plt.gcf()\n",
    "fig.set_size_inches(7, 6)\n",
    "#fig.savefig('/Users/johnmarshall/Documents/Analysis/PythonAnalysisScripts/post_cmfe_analysis/openfield_analysis/spatial_clustering/summary_figs/combined_coactivity.pdf', transparent=True)\n",
    "plt.show()"
   ]
  },
  {
   "cell_type": "code",
   "execution_count": null,
   "metadata": {
    "collapsed": false
   },
   "outputs": [],
   "source": [
    "bin_vector"
   ]
  },
  {
   "cell_type": "code",
   "execution_count": null,
   "metadata": {
    "collapsed": false
   },
   "outputs": [],
   "source": [
    "mean"
   ]
  },
  {
   "cell_type": "code",
   "execution_count": null,
   "metadata": {
    "collapsed": false
   },
   "outputs": [],
   "source": [
    "mean_ko"
   ]
  },
  {
   "cell_type": "code",
   "execution_count": null,
   "metadata": {
    "collapsed": false
   },
   "outputs": [],
   "source": [
    "## averages by mouse\n",
    "mean = wt_by_mouse.mean()\n",
    "mean_ko = ko_by_mouse.mean()\n",
    "std_error = wt_by_mouse.std()/math.sqrt(7)\n",
    "std_error_ko = ko_by_mouse.std()/math.sqrt(6)\n",
    "plt.scatter(bin_vector, mean, s=200, marker='s')\n",
    "plt.scatter(bin_vector, mean_ko, s=200,  marker='s')\n",
    "plt.errorbar(bin_vector, mean, yerr=std_error)\n",
    "plt.errorbar(bin_vector, mean_ko, yerr=std_error_ko)\n",
    "#plt.fill_between(bin_vector, mean-std_error, mean+std_error)\n",
    "#plt.fill_between(bin_vector, mean_ko-std_error_ko, mean_ko+std_error_ko)\n",
    "ax = plt.gca()\n",
    "ax.set_ylabel('shuffle-normalized cell-cell coactivity (jaccard)')\n",
    "ax.set_xlabel('cell-cell distance bin (um)')\n",
    "ax.set_ylim((4,25))\n",
    "ax.set_xlim((0,550))\n",
    "fig = plt.gcf()\n",
    "fig.set_size_inches(7, 6)\n",
    "fig.savefig('/projects/b1118/miniscope/analysis/marshall_2023_analysis/normalized_shuffled_jaccards_creon_by_mouse.pdf', transparent=True)\n",
    "plt.show()"
   ]
  },
  {
   "cell_type": "code",
   "execution_count": null,
   "metadata": {
    "collapsed": false
   },
   "outputs": [],
   "source": [
    "wt_by_mouse.to_csv('/projects/b1118/miniscope/analysis/marshall_2023_analysis/wt_normalized_shuffled_jaccards_by_mouse.csv')\n",
    "ko_by_mouse.to_csv('/projects/b1118/miniscope/analysis/marshall_2023_analysis/ko_normalized_shuffled_jaccards_by_mouse.csv')"
   ]
  },
  {
   "cell_type": "code",
   "execution_count": null,
   "metadata": {
    "collapsed": false
   },
   "outputs": [],
   "source": [
    "wt_by_mouse.values[0]"
   ]
  },
  {
   "cell_type": "code",
   "execution_count": null,
   "metadata": {
    "collapsed": false
   },
   "outputs": [],
   "source": [
    "bin_num=0\n",
    "stats.kruskal(wt_by_mouse.values[bin_num], ko_by_mouse.values[bin_num], nan_policy='omit')"
   ]
  },
  {
   "cell_type": "code",
   "execution_count": null,
   "metadata": {
    "collapsed": false
   },
   "outputs": [],
   "source": [
    "stats.mannwhitneyu(wt_by_mouse.values[3], ko_by_mouse.values[3])"
   ]
  },
  {
   "cell_type": "code",
   "execution_count": null,
   "metadata": {
    "collapsed": false
   },
   "outputs": [],
   "source": [
    "wt_by_mouse"
   ]
  },
  {
   "cell_type": "code",
   "execution_count": null,
   "metadata": {
    "collapsed": false
   },
   "outputs": [],
   "source": [
    "ko_by_mouse"
   ]
  },
  {
   "cell_type": "code",
   "execution_count": null,
   "metadata": {
    "collapsed": false
   },
   "outputs": [],
   "source": [
    "## individual mice \n",
    "\n",
    "## individual sessions \n",
    "fig = plt.figure()\n",
    "plt.subplot(1, 2, 1)\n",
    "\n",
    "for session in range(len(wt_by_mouse)):\n",
    "    bin_vector = np.linspace(50, 475, len(wt_by_mouse.values[session]))\n",
    "    plt.plot(bin_vector, wt_by_mouse.values[session])\n",
    "\n",
    "ax = plt.gca()\n",
    "ax.set_ylim((0,35))\n",
    "ax.set_xlim((0,550))\n",
    "\n",
    "plt.subplot(1, 2, 2)\n",
    "    \n",
    "for session in range(len(ko_by_mouse)):\n",
    "    bin_vector = np.linspace(50, 475, len(ko_by_mouse.values[session]))\n",
    "    plt.plot(bin_vector, ko_by_mouse.values[session])\n",
    "\n",
    "ax = plt.gca()\n",
    "ax.set_ylim((0,35))\n",
    "ax.set_xlim((0,550))\n",
    "\n",
    "fig.set_size_inches(15, 6)"
   ]
  },
  {
   "cell_type": "code",
   "execution_count": null,
   "metadata": {
    "collapsed": true
   },
   "outputs": [],
   "source": [
    "def exponential(x, a, k, b):\n",
    "    return a*np.exp(x*k) + b"
   ]
  },
  {
   "cell_type": "code",
   "execution_count": null,
   "metadata": {
    "collapsed": false
   },
   "outputs": [],
   "source": [
    "## fit decay of individual curves \n",
    "fit_params_wt = {}\n",
    "for session in range(len(wt_by_mouse)):\n",
    "    x_array = bin_vector\n",
    "    y_array_exp = wt_by_mouse.values[session]\n",
    "    # remove nan values to fit decay \n",
    "    if len(np.argwhere(np.isnan(y_array_exp)))!=0:\n",
    "        y_array_exp_nonan = np.delete(y_array_exp, np.argwhere(np.isnan(y_array_exp))[0])\n",
    "        x_array_nonan = np.delete(x_array, np.argwhere(np.isnan(y_array_exp))[0])\n",
    "        popt_exponential, pcov_exponential = scipy.optimize.curve_fit(exponential, x_array_nonan, \n",
    "                                                                  y_array_exp_nonan, \n",
    "                                                                  p0=[1,-0.5, 1])\n",
    "    else:\n",
    "        popt_exponential, pcov_exponential = scipy.optimize.curve_fit(exponential, x_array, \n",
    "                                                                  y_array_exp, \n",
    "                                                                  p0=[1,-0.5, 1])\n",
    "    \n",
    "    fit_params_wt[session]=popt_exponential\n",
    "    \n",
    "fit_params_ko = {}\n",
    "for session in range(len(ko_by_mouse)-1):\n",
    "    x_array = bin_vector\n",
    "    y_array_exp = ko_by_mouse.values[session]\n",
    "    # remove nan values to fit decay \n",
    "    if len(np.argwhere(np.isnan(y_array_exp)))!=0:\n",
    "        y_array_exp_nonan = np.delete(y_array_exp, np.argwhere(np.isnan(y_array_exp))[0])\n",
    "        x_array_nonan = np.delete(x_array, np.argwhere(np.isnan(y_array_exp))[0])\n",
    "        popt_exponential, pcov_exponential = scipy.optimize.curve_fit(exponential, x_array_nonan, \n",
    "                                                                  y_array_exp_nonan, \n",
    "                                                                  p0=[1,-0.5, 1])\n",
    "    else:\n",
    "        popt_exponential, pcov_exponential = scipy.optimize.curve_fit(exponential, x_array, \n",
    "                                                                  y_array_exp, \n",
    "                                                                  p0=[1,-0.5, 1])\n",
    "    \n",
    "    fit_params_ko[session]=popt_exponential"
   ]
  },
  {
   "cell_type": "code",
   "execution_count": null,
   "metadata": {
    "collapsed": false
   },
   "outputs": [],
   "source": [
    "fit_params_wt"
   ]
  },
  {
   "cell_type": "code",
   "execution_count": null,
   "metadata": {
    "collapsed": false
   },
   "outputs": [],
   "source": [
    "fit_params_ko"
   ]
  },
  {
   "cell_type": "code",
   "execution_count": null,
   "metadata": {
    "collapsed": true
   },
   "outputs": [],
   "source": []
  }
 ],
 "metadata": {
  "kernelspec": {
   "display_name": "caiman",
   "language": "python",
   "name": "caiman"
  },
  "language_info": {
   "codemirror_mode": {
    "name": "ipython",
    "version": 3
   },
   "file_extension": ".py",
   "mimetype": "text/x-python",
   "name": "python",
   "nbconvert_exporter": "python",
   "pygments_lexer": "ipython3",
   "version": "3.7.10"
  }
 },
 "nbformat": 4,
 "nbformat_minor": 4
}
