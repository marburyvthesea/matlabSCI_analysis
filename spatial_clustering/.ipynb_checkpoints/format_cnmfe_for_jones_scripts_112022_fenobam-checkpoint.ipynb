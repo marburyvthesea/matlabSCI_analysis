{
 "cells": [
  {
   "cell_type": "code",
   "execution_count": 1,
   "metadata": {
    "collapsed": false
   },
   "outputs": [
    {
     "data": {
      "text/html": [
       "<style>.container { width:90% !important; }</style>"
      ],
      "text/plain": [
       "<IPython.core.display.HTML object>"
      ]
     },
     "metadata": {},
     "output_type": "display_data"
    }
   ],
   "source": [
    "from IPython.core.display import display, HTML\n",
    "display(HTML(\"<style>.container { width:90% !important; }</style>\"))\n",
    "import numpy as np\n",
    "import pandas as pd\n",
    "import h5py\n",
    "from tqdm import tqdm\n",
    "import scipy.io as sio\n",
    "from scipy import stats\n",
    "from importlib import reload\n",
    "from matplotlib import pyplot as plt\n",
    "import sys\n",
    "sys.path.append('/home/jma819/post_cmfe_analysis')\n",
    "#sys.path.append('/Users/johnmarshall/Documents/Analysis/PythonAnalysisScripts/post_cmfe_analysis')\n",
    "import os\n",
    "os.chdir('/home/jma819/post_cnmfe_analysis/')\n",
    "import python_utils_jjm as utils_jjm\n",
    "import python_utils_jjm as utils_jjm\n",
    "import dlc_utils\n",
    "from sklearn.preprocessing import MinMaxScaler\n",
    "import scipy.spatial.distance as dist\n",
    "import itertools\n",
    "import math\n",
    "import warnings\n",
    "%matplotlib inline\n",
    "from matplotlib import pyplot as plt\n",
    "from matplotlib import animation, rc\n",
    "from IPython.display import HTML\n",
    "import av\n",
    "from multiprocessing import Pool\n",
    "import functools\n",
    "import glob\n",
    "plt.rcParams['animation.ffmpeg_path']='/home/jma819/.conda/envs/caiman/bin/ffmpeg'\n",
    "warnings.filterwarnings(action='once')"
   ]
  },
  {
   "cell_type": "code",
   "execution_count": 2,
   "metadata": {
    "collapsed": false
   },
   "outputs": [
    {
     "name": "stderr",
     "output_type": "stream",
     "text": [
      "/home/jma819/.conda/envs/caiman_with_tables/lib/python3.8/site-packages/jupyter_client/jsonutil.py:64: DeprecationWarning: Interpreting naive datetime as local 2022-11-21 15:57:44.638252. Please add timezone info to timestamps.\n",
      "  new_obj[k] = extract_dates(v)\n",
      "/home/jma819/.conda/envs/caiman_with_tables/lib/python3.8/site-packages/ipykernel/ipkernel.py:287: DeprecationWarning: `should_run_async` will not call `transform_cell` automatically in the future. Please pass the result to `transformed_cell` argument and any exception that happen during thetransform in `preprocessing_exc_tuple` in IPython 7.17 and above.\n",
      "  and should_run_async(code)\n"
     ]
    }
   ],
   "source": [
    "## list *out.mat files to analyze"
   ]
  },
  {
   "cell_type": "code",
   "execution_count": 16,
   "metadata": {
    "collapsed": false
   },
   "outputs": [
    {
     "name": "stderr",
     "output_type": "stream",
     "text": [
      "/home/jma819/.conda/envs/caiman_with_tables/lib/python3.8/site-packages/jupyter_client/jsonutil.py:64: DeprecationWarning: Interpreting naive datetime as local 2022-11-21 16:17:55.627409. Please add timezone info to timestamps.\n",
      "  new_obj[k] = extract_dates(v)\n",
      "/home/jma819/.conda/envs/caiman_with_tables/lib/python3.8/site-packages/ipykernel/ipkernel.py:287: DeprecationWarning: `should_run_async` will not call `transform_cell` automatically in the future. Please pass the result to `transformed_cell` argument and any exception that happen during thetransform in `preprocessing_exc_tuple` in IPython 7.17 and above.\n",
      "  and should_run_async(code)\n"
     ]
    },
    {
     "name": "stdout",
     "output_type": "stream",
     "text": [
      "Vehicle_DIO_r2.14_17_40_46\n",
      "cell count:\n",
      "20\n",
      "Vehicle_DIO_r2.14_17_40_46\n",
      "finished, saved:\n"
     ]
    },
    {
     "data": {
      "text/plain": [
       "['Vehicle_DIO_r2.14_17_40_46']"
      ]
     },
     "execution_count": 16,
     "metadata": {},
     "output_type": "execute_result"
    }
   ],
   "source": [
    "dir_path = '/projects/p30771/MATLAB/CNMF_E_jjm/quest_MATLAB_cnmfe/batch_output_files/'\n",
    "file_name = '20-Nov_23_49_28_out.mat'\n",
    "CNMFE_file = dir_path+file_name\n",
    "\n",
    "## load cnmfe output and perform some basic adjustments (normalize traces to peak intensity, calculate z score)\n",
    "cell_fluorescence = sio.loadmat(CNMFE_file)\n",
    "C_timedelta = utils_jjm.create_fluorescence_time_delta(cell_fluorescence['C'])\n",
    "C_normalized = C_timedelta.apply(utils_jjm.normalize).set_index(pd.to_timedelta(np.linspace(0, (len(C_timedelta)-1)*(1/20), len(C_timedelta)), unit='s'), drop=True)\n",
    "C_z_scored = C_timedelta.apply(stats.zscore).set_index(pd.to_timedelta(np.linspace(0, (len(C_timedelta)-1)*(1/20), len(C_timedelta)), unit='s'), drop=True)\n",
    "C_normalized_z_scored = C_normalized.apply(stats.zscore).set_index(pd.to_timedelta(np.linspace(0, (len(C_normalized)-1)*(1/20), len(C_normalized)), unit='s'), drop=True)\n",
    "\n",
    "spatial_components=np.array(cell_fluorescence['A'].todense())\n",
    "\n",
    "##load spatial components by session\n",
    "# for v4 dimensions are 600x600 pixels\n",
    "com_df, spatial_components = utils_jjm.return_spatial_info(CNMFE_file, 0.6, dims=(600, 600))\n",
    "cell_contours, for_dims = utils_jjm.create_contour_layouts(spatial_components, dims=(600, 600))\n",
    "\n",
    "#cell_fluorescence['P'][0][0][13][0][0][0].split('/')\n",
    "\n",
    "print(cell_fluorescence['P'][0][0][13][0][0][0].split('/')[5]+'_'+cell_fluorescence['P'][0][0][13][0][0][0].split('/')[6]+'_'+cell_fluorescence['P'][0][0][13][0][0][0].split('/')[8])\n",
    "\n",
    "grouped_raw_data = {}\n",
    "\n",
    "session = cell_fluorescence['P'][0][0][13][0][0][0].split('/')[5]+'_'+cell_fluorescence['P'][0][0][13][0][0][0].split('/')[6]+'_'+cell_fluorescence['P'][0][0][13][0][0][0].split('/')[8]\n",
    "grouped_raw_data[session] = {'C': C_timedelta, 'C_z_scored': C_z_scored, 'C_normalized': C_normalized, \n",
    "                               'C_normalized_z_scored': C_normalized_z_scored, 'com' : com_df, \n",
    "                               'spatial_components' : spatial_components, \n",
    "                               'cell_contours': cell_contours, 'for_dims' : for_dims}\n",
    "\n",
    "## for spatial clustering start by using z scored data on whole trace as input to event detection function, then try with z score based \n",
    "#on rest or other periods\n",
    "C_traces_filtered_for_analysis = {}\n",
    "com_filtered_for_analysis = {}\n",
    "##remove small cells \n",
    "for session in list(grouped_raw_data.keys()):\n",
    "    # get indicies of small cells \n",
    "    cells_to_drop = np.array([int(cell) for cell in range(1, len(grouped_raw_data[session]['cell_contours'])+1) if \n",
    "                              len(np.array(np.where(grouped_raw_data[session]['for_dims'][cell]>0.6)[0]))<100])\n",
    "    C_traces_filtered = grouped_raw_data[session]['C_normalized_z_scored'].drop(cells_to_drop, axis=1)\n",
    "    \n",
    "    C_traces_filtered_for_analysis[session] = C_traces_filtered.drop('msCamFrame', axis=1)\n",
    "    com_filtered_for_analysis[session] = grouped_raw_data[session]['com'].drop(cells_to_drop, axis=0).transpose()\n",
    "\n",
    "print('cell count:')\n",
    "print(np.shape(C_traces_filtered)[1])\n",
    "\n",
    "# sets sampling interval to 5Hz to correspond to behavior data \n",
    "new_sampling_interval = .2\n",
    "C_z_score_df = pd.concat([C_traces_filtered_for_analysis[session].resample(str(new_sampling_interval)+'S').max()\n",
    "                  for session in list(C_traces_filtered_for_analysis.keys())], axis=1, keys=list(C_traces_filtered_for_analysis.keys()))\n",
    "\n",
    "# after downsampling convert back to regular index, timedelta is behaving oddly \n",
    "C_z_score_df_reindexed = pd.concat([C_z_score_df[session].reset_index(drop=True) \n",
    "                                    for session in list(set(C_z_score_df.columns.get_level_values(0)))], axis=1, keys=list(set(C_z_score_df.columns.get_level_values(0))))\n",
    "# drop columns with all nan values\n",
    "C_z_score_df_reindexed.dropna(axis=1, how='all', inplace=True)\n",
    "\n",
    "print(session)\n",
    "\n",
    "## save each session csv file individually for loading into MATLAB\n",
    "# using MATLAB readtable function, which will create variable names from column header \n",
    "save_directory = '/projects/b1118/miniscope/analysis/spatial_data/spatial_clustering/jones_script_analysis/'\n",
    "for session in list(set(C_z_score_df_reindexed.columns.get_level_values(0))):\n",
    "    C_z_score_df_reindexed[session].to_csv(save_directory+session+'_C_traces_filtered.csv')\n",
    "    com_filtered_for_analysis[session].to_csv(save_directory+session+'_com_filtered.csv')\n",
    "\n",
    "print('finished, saved:')\n",
    "list(set(C_z_score_df_reindexed.columns.get_level_values(0)))"
   ]
  },
  {
   "cell_type": "code",
   "execution_count": 68,
   "metadata": {
    "collapsed": false
   },
   "outputs": [
    {
     "name": "stderr",
     "output_type": "stream",
     "text": [
      "/home/jma819/.conda/envs/caiman_with_tables/lib/python3.8/site-packages/jupyter_client/jsonutil.py:64: DeprecationWarning: Interpreting naive datetime as local 2022-11-21 11:59:03.319321. Please add timezone info to timestamps.\n",
      "  new_obj[k] = extract_dates(v)\n"
     ]
    }
   ],
   "source": [
    "## batch compiling\n",
    "dir_path = '/projects/p30771/MATLAB/CNMF_E_jjm/quest_MATLAB_cnmfe/batch_output_files/'\n",
    "file_names = []"
   ]
  },
  {
   "cell_type": "code",
   "execution_count": null,
   "metadata": {
    "collapsed": true
   },
   "outputs": [],
   "source": [
    "key = {}\n",
    "for file_name in file_names:\n",
    "    CNMFE_file = dir_path+file_name\n",
    "    ## load cnmfe output and perform some basic adjustments (normalize traces to peak intensity, calculate z score)\n",
    "    cell_fluorescence = sio.loadmat(CNMFE_file)\n",
    "    C_timedelta = utils_jjm.create_fluorescence_time_delta(cell_fluorescence['C'])\n",
    "    C_normalized = C_timedelta.apply(utils_jjm.normalize).set_index(pd.to_timedelta(np.linspace(0, (len(C_timedelta)-1)*(1/20), len(C_timedelta)), unit='s'), drop=True)\n",
    "    C_z_scored = C_timedelta.apply(stats.zscore).set_index(pd.to_timedelta(np.linspace(0, (len(C_timedelta)-1)*(1/20), len(C_timedelta)), unit='s'), drop=True)\n",
    "    C_normalized_z_scored = C_normalized.apply(stats.zscore).set_index(pd.to_timedelta(np.linspace(0, (len(C_normalized)-1)*(1/20), len(C_normalized)), unit='s'), drop=True)\n",
    "    spatial_components=np.array(cell_fluorescence['A'].todense())\n",
    "    ##load spatial components by session\n",
    "    # for v4 dimensions are 600x600 pixels\n",
    "    com_df, spatial_components = utils_jjm.return_spatial_info(CNMFE_file, 0.6, dims=(600, 600))\n",
    "    cell_contours, for_dims = utils_jjm.create_contour_layouts(spatial_components, dims=(600, 600))\n",
    "    # cell_fluorescence['P'][0][0][13][0][0][0].split('/')\n",
    "    print(cell_fluorescence['P'][0][0][13][0][0][0].split('/')[5]+'_'+cell_fluorescence['P'][0][0][13][0][0][0].split('/')[6]+'_'+cell_fluorescence['P'][0][0][13][0][0][0].split('/')[8])\n",
    "    grouped_raw_data = {}\n",
    "    session = cell_fluorescence['P'][0][0][13][0][0][0].split('/')[5]+'_'+cell_fluorescence['P'][0][0][13][0][0][0].split('/')[6]+'_'+cell_fluorescence['P'][0][0][13][0][0][0].split('/')[8]\n",
    "    grouped_raw_data[session] = {'C': C_timedelta, 'C_z_scored': C_z_scored, 'C_normalized': C_normalized, \n",
    "                               'C_normalized_z_scored': C_normalized_z_scored, 'com' : com_df, \n",
    "                               'spatial_components' : spatial_components, \n",
    "                               'cell_contours': cell_contours, 'for_dims' : for_dims}\n",
    "    ## for spatial clustering start by using z scored data on whole trace as input to event detection function, then try with z score based \n",
    "    #on rest or other periods\n",
    "    C_traces_filtered_for_analysis = {}\n",
    "    com_filtered_for_analysis = {}\n",
    "    ##remove small cells \n",
    "    for session in list(grouped_raw_data.keys()):\n",
    "        # get indicies of small cells \n",
    "        cells_to_drop = np.array([int(cell) for cell in range(1, len(grouped_raw_data[session]['cell_contours'])+1) if \n",
    "                              len(np.array(np.where(grouped_raw_data[session]['for_dims'][cell]>0.6)[0]))<100])\n",
    "        C_traces_filtered = grouped_raw_data[session]['C_normalized_z_scored'].drop(cells_to_drop, axis=1)\n",
    "    \n",
    "        C_traces_filtered_for_analysis[session] = C_traces_filtered.drop('msCamFrame', axis=1)\n",
    "        com_filtered_for_analysis[session] = grouped_raw_data[session]['com'].drop(cells_to_drop, axis=0).transpose()\n",
    "    print('cell count:')\n",
    "    print(np.shape(C_traces_filtered)[1])\n",
    "    # sets sampling interval to 5Hz to correspond to behavior data \n",
    "    new_sampling_interval = .2\n",
    "    C_z_score_df = pd.concat([C_traces_filtered_for_analysis[session].resample(str(new_sampling_interval)+'S').max()\n",
    "                  for session in list(C_traces_filtered_for_analysis.keys())], axis=1, keys=list(C_traces_filtered_for_analysis.keys()))\n",
    "    # after downsampling convert back to regular index, timedelta is behaving oddly \n",
    "    C_z_score_df_reindexed = pd.concat([C_z_score_df[session].reset_index(drop=True) \n",
    "                                    for session in list(set(C_z_score_df.columns.get_level_values(0)))], axis=1, keys=list(set(C_z_score_df.columns.get_level_values(0))))\n",
    "    # drop columns with all nan values\n",
    "    C_z_score_df_reindexed.dropna(axis=1, how='all', inplace=True)\n",
    "    print(session)\n",
    "    ## save each session csv file individually for loading into MATLAB\n",
    "    # using MATLAB readtable function, which will create variable names from column header \n",
    "    save_directory = '/projects/b1118/miniscope/analysis/spatial_data/spatial_clustering/jones_script_analysis/'\n",
    "    for session in list(set(C_z_score_df_reindexed.columns.get_level_values(0))):\n",
    "        C_z_score_df_reindexed[session].to_csv(save_directory+session+'_C_traces_filtered.csv')\n",
    "        com_filtered_for_analysis[session].to_csv(save_directory+session+'_com_filtered.csv')\n",
    "    print('finished, saved:')\n",
    "    list(set(C_z_score_df_reindexed.columns.get_level_values(0)))\n",
    "    key[session]=file_name"
   ]
  }
 ],
 "metadata": {
  "kernelspec": {
   "display_name": "caiman_with_tables",
   "language": "python",
   "name": "caiman_with_tables"
  },
  "language_info": {
   "codemirror_mode": {
    "name": "ipython",
    "version": 3
   },
   "file_extension": ".py",
   "mimetype": "text/x-python",
   "name": "python",
   "nbconvert_exporter": "python",
   "pygments_lexer": "ipython3",
   "version": "3.8.8"
  }
 },
 "nbformat": 4,
 "nbformat_minor": 2
}
